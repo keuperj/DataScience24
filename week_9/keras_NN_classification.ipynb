{
  "cells": [
    {
      "cell_type": "markdown",
      "metadata": {
        "id": "35T9-nzHHSgV"
      },
      "source": [
        "# Woche 9 Exercise 1: NN Classification of MNIST"
      ]
    },
    {
      "cell_type": "markdown",
      "metadata": {
        "id": "KZps2EVQHSgd"
      },
      "source": [
        "## MNIST Data\n",
        "We return to the MNIST data set on handwritten digits to compare non-linear classification algorithms ...   "
      ]
    },
    {
      "cell_type": "markdown",
      "metadata": {
        "id": "xKOyK1UTHSgk"
      },
      "source": [
        "### Task\n",
        "* Build a \"fully connected\" neural network for MNIST\n",
        "  * Hint: use the code \"[Example: MLP for MNIST](https://colab.research.google.com/github/keuperj/DataScience23/blob/main/week_9/keras_intro.ipynb)\" from the tutorial to get started.\n",
        "  * why do we need to use \"flatten\"\n",
        "* evaluate different network layouts (number of layers, number of neurons in layer)\n",
        "* evaluate different hyper-parameter settings (learning rate)\n",
        "\n",
        "Keras API: https://keras.io/api/"
      ]
    },
    {
      "cell_type": "code",
      "source": [
        "import numpy as np\n",
        "import tensorflow as tf\n",
        "from tensorflow import keras"
      ],
      "metadata": {
        "id": "c1YZdpgxl-8F"
      },
      "execution_count": null,
      "outputs": []
    },
    {
      "cell_type": "code",
      "source": [
        "#get data\n",
        "(x_train, y_train), (x_test, y_test) = keras.datasets.mnist.load_data()\n"
      ],
      "metadata": {
        "colab": {
          "base_uri": "https://localhost:8080/"
        },
        "id": "etbyKnMLmGpz",
        "outputId": "357cae9b-46e2-4e47-dc29-7b2aa45e440d"
      },
      "execution_count": null,
      "outputs": [
        {
          "output_type": "stream",
          "name": "stdout",
          "text": [
            "Downloading data from https://storage.googleapis.com/tensorflow/tf-keras-datasets/mnist.npz\n",
            "11490434/11490434 [==============================] - 0s 0us/step\n"
          ]
        }
      ]
    },
    {
      "cell_type": "code",
      "source": [],
      "metadata": {
        "id": "prNr51NEmWvy"
      },
      "execution_count": null,
      "outputs": []
    }
  ],
  "metadata": {
    "kernelspec": {
      "display_name": "Python 3",
      "language": "python",
      "name": "python3"
    },
    "language_info": {
      "codemirror_mode": {
        "name": "ipython",
        "version": 3
      },
      "file_extension": ".py",
      "mimetype": "text/x-python",
      "name": "python",
      "nbconvert_exporter": "python",
      "pygments_lexer": "ipython3",
      "version": "3.7.6"
    },
    "colab": {
      "provenance": []
    }
  },
  "nbformat": 4,
  "nbformat_minor": 0
}