{
  "cells": [
    {
      "cell_type": "markdown",
      "metadata": {
        "id": "5of0Awb_Z7bW"
      },
      "source": [
        "# Assignment 2: recommender System"
      ]
    },
    {
      "cell_type": "code",
      "source": [
        "#get data from GitHub -> https://github.com/keuperj/DATA\n",
        "!git clone https://github.com/keuperj/DATA.git"
      ],
      "metadata": {
        "id": "-LXGAYnQbClS",
        "outputId": "8bb579bc-d729-4eb5-8e66-42fde1cedbab",
        "colab": {
          "base_uri": "https://localhost:8080/"
        }
      },
      "execution_count": 2,
      "outputs": [
        {
          "output_type": "stream",
          "name": "stdout",
          "text": [
            "Cloning into 'DATA'...\n",
            "remote: Enumerating objects: 101, done.\u001b[K\n",
            "remote: Counting objects: 100% (14/14), done.\u001b[K\n",
            "remote: Compressing objects: 100% (12/12), done.\u001b[K\n",
            "remote: Total 101 (delta 2), reused 14 (delta 2), pack-reused 87\u001b[K\n",
            "Receiving objects: 100% (101/101), 146.44 MiB | 22.35 MiB/s, done.\n",
            "Resolving deltas: 100% (23/23), done.\n",
            "Updating files: 100% (69/69), done.\n"
          ]
        }
      ]
    },
    {
      "cell_type": "markdown",
      "metadata": {
        "id": "ajBp0vDUZ7ba"
      },
      "source": [
        "## Code from the lecture"
      ]
    },
    {
      "cell_type": "code",
      "execution_count": 4,
      "metadata": {
        "id": "rI6iZXXzZ7bb"
      },
      "outputs": [],
      "source": [
        "#read data to DataFrames\n",
        "import pandas as pd\n",
        "import numpy as np\n",
        "%matplotlib inline\n",
        "import matplotlib.pyplot as plt\n",
        "\n",
        "u_cols = ['user_id', 'age', 'sex', 'occupation', 'zip_code']\n",
        "users = pd.read_csv('DATA/movielens100k/u.user', sep='|', names=u_cols, encoding = \"ISO-8859-1\")\n",
        "\n",
        "r_cols = ['user_id', 'movie_id', 'rating', 'timestamp']\n",
        "ratings = pd.read_csv('DATA/movielens100k/u.data', sep='\\t', names=r_cols, encoding = \"ISO-8859-1\")\n",
        "\n",
        "m_cols=['movie_id', 'title', 'release date', 'video release date', 'IMDb_URL', 'unknown', 'Action', 'Adventure', 'Animation', 'Childrens', 'Comedy', 'Crime', 'Documentary', 'Drama', 'Fantasy', 'Film-Noir', 'Horror', 'Musical', 'Mystery', 'Romance', 'Sci-Fi', 'Thriller', 'War', 'Western']\n",
        "movies = pd.read_csv('DATA/movielens100k/u.item', sep='|', names=m_cols ,encoding = \"ISO-8859-1\" )"
      ]
    },
    {
      "cell_type": "code",
      "execution_count": 5,
      "metadata": {
        "id": "klVTCHViZ7bd"
      },
      "outputs": [],
      "source": [
        "#gerate matrix (this can be done more efficiently!)\n",
        "R=np.zeros((np.shape(users)[0],np.shape(movies)[0]))\n",
        "for i in range(np.shape(ratings)[0]):\n",
        "    R[ratings['user_id'][i]-1, ratings['movie_id'][i]-1]=ratings['rating'][i]"
      ]
    },
    {
      "cell_type": "code",
      "execution_count": 6,
      "metadata": {
        "id": "r-f9PPFDZ7be"
      },
      "outputs": [],
      "source": [
        "epsilon=0.0000001 \n",
        "def CosineDist(a,b):\n",
        "    return a.dot(b)/(np.linalg.norm(a)*np.linalg.norm(b)+epsilon) #added epsilon for numerical stability: avoiding div by zero -> NaN"
      ]
    },
    {
      "cell_type": "code",
      "execution_count": 7,
      "metadata": {
        "id": "8XGnnKEeZ7be",
        "outputId": "7d536fea-1316-4c64-d5ba-97ebb2ee0f83",
        "colab": {
          "base_uri": "https://localhost:8080/"
        }
      },
      "outputs": [
        {
          "output_type": "stream",
          "name": "stdout",
          "text": [
            "CPU times: user 2min, sys: 331 ms, total: 2min\n",
            "Wall time: 2min 2s\n"
          ]
        }
      ],
      "source": [
        "%%time\n",
        "#again, implementation not efficient: better use lamda opperators \n",
        "D=np.zeros((np.shape(movies)[0],np.shape(movies)[0]))\n",
        "for i in range(0,np.shape(movies)[0]):\n",
        "    for j in range(0,np.shape(movies)[0]):\n",
        "        if i!=j:\n",
        "            D[i,j]=CosineDist(R[:,i],R[:,j])"
      ]
    },
    {
      "cell_type": "code",
      "execution_count": 8,
      "metadata": {
        "id": "xzSm9NzQZ7bg"
      },
      "outputs": [],
      "source": [
        "def getTopN(movie_id, D, N=5):\n",
        "    return D[movie_id,:].argsort()[-N:]\n",
        "\n",
        "def getIDbyName(name):\n",
        "    if np.size(movies.movie_id[movies.title.str.contains(name)]) > 0:\n",
        "        m = int(movies.movie_id[movies.title.str.contains(name)][:1]), str(movies.title[movies.title.str.contains(name)][:1])\n",
        "        return m[0]-1\n",
        "    else:\n",
        "        return -1\n",
        "    \n",
        "def getNameByID(IDs):\n",
        "    res=movies.iloc[IDs]\n",
        "    return res.title\n",
        "\n",
        "def CII(title, D):\n",
        "    if getIDbyName(title) > 0:\n",
        "        print (\"recommending movies for: '\" + str(getNameByID(getIDbyName(title)))+\"'\")\n",
        "        return getNameByID(getTopN(getIDbyName(title),D))[::-1]\n",
        "    else:\n",
        "        print (\"no movie title containing \" + str(title) + \"found...\")\n",
        "        \n",
        "def Score_byID(ID, D, Test):\n",
        "    #print (\"Hit Scores for: \", getNameByID(ID))\n",
        "    res_id = getTopN(ID,D)[::-1]\n",
        "    res_title = getNameByID(getTopN(ID,D))[::-1]\n",
        "    res_score = Test[res_id]\n",
        "    return res_id, res_title, res_score, np.mean(res_score)\n",
        "    \n",
        "#compute scores for all test users\n",
        "def test_Score(D_train, R_test):\n",
        "    userScores=[]\n",
        "    for i in range(R_test.shape[0]):\n",
        "        userScore=0\n",
        "        userTop = np.argsort(R_test[i])[-5:]\n",
        "        for e in userTop:\n",
        "            res_id, res_title, res_score, av_score = Score_byID(e,D_train, R_test[i])\n",
        "            userScore+=av_score\n",
        "        userScores.append(userScore/(5))\n",
        "    return userScores"
      ]
    },
    {
      "cell_type": "code",
      "execution_count": 9,
      "metadata": {
        "id": "ros6MIsoZ7bh",
        "outputId": "c9544559-aa09-46a4-ca13-a59a6f18b8f4",
        "colab": {
          "base_uri": "https://localhost:8080/"
        }
      },
      "outputs": [
        {
          "output_type": "execute_result",
          "data": {
            "text/plain": [
              "(array([ 49, 180, 120, 116, 404]),\n",
              " 49                  Star Wars (1977)\n",
              " 180        Return of the Jedi (1983)\n",
              " 120    Independence Day (ID4) (1996)\n",
              " 116                 Rock, The (1996)\n",
              " 404       Mission: Impossible (1996)\n",
              " Name: title, dtype: object,\n",
              " array([[0., 0., 0., ..., 0., 0., 0.],\n",
              "        [3., 0., 2., ..., 0., 0., 0.],\n",
              "        [4., 0., 0., ..., 0., 0., 0.],\n",
              "        [4., 0., 0., ..., 0., 0., 0.],\n",
              "        [0., 1., 0., ..., 0., 0., 0.]]),\n",
              " 0.31985731272294887)"
            ]
          },
          "metadata": {},
          "execution_count": 9
        }
      ],
      "source": [
        "#test score of Movie ID 0\n",
        "Score_byID(0,D,R)"
      ]
    },
    {
      "cell_type": "markdown",
      "metadata": {
        "id": "VnM7H_3RZ7bi"
      },
      "source": [
        "## 4.1 Alternative Distance Measures\n",
        "Implement a different distance measure, e.g. eucledian and compare the ressults."
      ]
    },
    {
      "cell_type": "code",
      "execution_count": 10,
      "metadata": {
        "id": "UQVpHobqZ7bi"
      },
      "outputs": [],
      "source": [
        "#split into train and test data (code from lecture notebook)\n",
        "from sklearn.model_selection import train_test_split\n",
        "R_train, R_test = train_test_split(R, test_size=0.1)"
      ]
    },
    {
      "cell_type": "code",
      "execution_count": 11,
      "metadata": {
        "id": "pn4R2SptZ7bi"
      },
      "outputs": [],
      "source": [
        "#compute D for cosine with train data (code from lecture)\n",
        "D_cosine=np.zeros((np.shape(movies)[0],np.shape(movies)[0]))\n",
        "for i in range(0,np.shape(movies)[0]):\n",
        "    for j in range(0,np.shape(movies)[0]):\n",
        "        if i!=j:\n",
        "            D_cosine[i,j]=CosineDist(R_train[:,i],R_train[:,j])"
      ]
    },
    {
      "cell_type": "code",
      "execution_count": 12,
      "metadata": {
        "id": "AcRE6hFMZ7bj"
      },
      "outputs": [],
      "source": [
        "#run test for cosine train\n",
        "test_cosine=test_Score(D_cosine,R_test)"
      ]
    },
    {
      "cell_type": "code",
      "execution_count": 13,
      "metadata": {
        "id": "d7p1VHEyZ7bj",
        "outputId": "e3cd7562-178b-4d09-9256-6bc70a1673aa",
        "colab": {
          "base_uri": "https://localhost:8080/"
        }
      },
      "outputs": [
        {
          "output_type": "execute_result",
          "data": {
            "text/plain": [
              "2.248421052631579"
            ]
          },
          "metadata": {},
          "execution_count": 13
        }
      ],
      "source": [
        "#get mean recommendation value of cosine dist\n",
        "np.mean(test_cosine)"
      ]
    },
    {
      "cell_type": "code",
      "execution_count": 14,
      "metadata": {
        "id": "_gQ2QNR7Z7bk"
      },
      "outputs": [],
      "source": [
        "#define new dist function\n",
        "def MyDist(a,b):\n",
        "    return np.sum(np.abs(a-b)) "
      ]
    },
    {
      "cell_type": "code",
      "execution_count": 15,
      "metadata": {
        "id": "Z4EBfVnfZ7bk"
      },
      "outputs": [],
      "source": [
        "#compute D for MyDist with train data (code from lecture)\n",
        "D_my=np.zeros((np.shape(movies)[0],np.shape(movies)[0]))\n",
        "for i in range(0,np.shape(movies)[0]):\n",
        "    for j in range(0,np.shape(movies)[0]):\n",
        "        if i!=j:\n",
        "            D_my[i,j]=MyDist(R_train[:,i],R_train[:,j])"
      ]
    },
    {
      "cell_type": "code",
      "execution_count": 16,
      "metadata": {
        "id": "XL65Z6zKZ7bk",
        "outputId": "ce8c0fa1-51d7-4c13-c764-785317a8a518",
        "colab": {
          "base_uri": "https://localhost:8080/"
        }
      },
      "outputs": [
        {
          "output_type": "execute_result",
          "data": {
            "text/plain": [
              "array([[   0., 1381., 1434., ..., 1558., 1553., 1553.],\n",
              "       [1381.,    0.,  471., ...,  379.,  374.,  374.],\n",
              "       [1434.,  471.,    0., ...,  246.,  247.,  241.],\n",
              "       ...,\n",
              "       [1558.,  379.,  246., ...,    0.,    5.,    5.],\n",
              "       [1553.,  374.,  247., ...,    5.,    0.,    6.],\n",
              "       [1553.,  374.,  241., ...,    5.,    6.,    0.]])"
            ]
          },
          "metadata": {},
          "execution_count": 16
        }
      ],
      "source": [
        "D_my"
      ]
    },
    {
      "cell_type": "code",
      "execution_count": 17,
      "metadata": {
        "id": "Vs8YqUk2Z7bk"
      },
      "outputs": [],
      "source": [
        "#run test for cosine train\n",
        "test_my=test_Score(D_my,R_test)"
      ]
    },
    {
      "cell_type": "code",
      "execution_count": 18,
      "metadata": {
        "id": "8R3C5113Z7bl",
        "outputId": "b0853bf0-e758-410b-e3df-260d59b5ed08",
        "colab": {
          "base_uri": "https://localhost:8080/"
        }
      },
      "outputs": [
        {
          "output_type": "execute_result",
          "data": {
            "text/plain": [
              "1.5195789473684207"
            ]
          },
          "metadata": {},
          "execution_count": 18
        }
      ],
      "source": [
        "#get mean recommendation value of my dist\n",
        "np.mean(test_my)"
      ]
    },
    {
      "cell_type": "code",
      "execution_count": 19,
      "metadata": {
        "id": "_yj0r5b3Z7bl",
        "outputId": "9db0aa4f-316a-412b-df60-9ca42f669750",
        "colab": {
          "base_uri": "https://localhost:8080/",
          "height": 448
        }
      },
      "outputs": [
        {
          "output_type": "execute_result",
          "data": {
            "text/plain": [
              "<matplotlib.legend.Legend at 0x7fe090c2a940>"
            ]
          },
          "metadata": {},
          "execution_count": 19
        },
        {
          "output_type": "display_data",
          "data": {
            "text/plain": [
              "<Figure size 640x480 with 1 Axes>"
            ],
            "image/png": "[encoded data removed]"
          },
          "metadata": {}
        }
      ],
      "source": [
        "#plot hist over D versions\n",
        "plt.hist(test_my,bins=5,label='my',alpha=0.5)\n",
        "plt.hist(test_cosine,bins=5,label='cosine',alpha=0.5) #alpha sets transperency\n",
        "plt.legend()"
      ]
    },
    {
      "cell_type": "markdown",
      "metadata": {
        "id": "rTUOPU3UZ7bl"
      },
      "source": [
        "## 4.2 Baseline Results\n",
        "Implement and compare results of two very simple baseline methods \n",
        "* random recommendations: randomly recommend 5 movies (HINT user np.random sub-library to generate random movie IDs)\n",
        "* always recommending the top 5 movies: HINT: need to find the IDs of the top 5 movies over all users first"
      ]
    },
    {
      "cell_type": "code",
      "execution_count": 20,
      "metadata": {
        "id": "ONs-dc-AZ7bl",
        "outputId": "4801122a-77d8-4a3e-ad6e-f212a9e97313",
        "colab": {
          "base_uri": "https://localhost:8080/"
        }
      },
      "outputs": [
        {
          "output_type": "execute_result",
          "data": {
            "text/plain": [
              "array([751,  58, 192, 468, 713])"
            ]
          },
          "metadata": {},
          "execution_count": 20
        }
      ],
      "source": [
        "#get random movie IDs\n",
        "id_rand=np.random.randint(np.shape(R)[0],size=5) # 5 rand samples from the number of movies\n",
        "id_rand"
      ]
    },
    {
      "cell_type": "code",
      "execution_count": 21,
      "metadata": {
        "id": "I0PQ73eFZ7bm",
        "outputId": "ec231db9-5c0c-457d-9478-974429e888c0",
        "colab": {
          "base_uri": "https://localhost:8080/"
        }
      },
      "outputs": [
        {
          "output_type": "execute_result",
          "data": {
            "text/plain": [
              "array([173, 257, 180,  99,  49])"
            ]
          },
          "metadata": {},
          "execution_count": 21
        }
      ],
      "source": [
        "#get top 5 movies\n",
        "id_top5=np.argsort(np.sum(R,axis=0))[-5:]#sum over all ratings along the movie axis, sort it and retun last 5\n",
        "id_top5"
      ]
    },
    {
      "cell_type": "code",
      "execution_count": 22,
      "metadata": {
        "id": "WQygqjdjZ7bm"
      },
      "outputs": [],
      "source": [
        "#now we need to change the eval functions - we do not need a D and do not neet to compute res_id, we have fixed reconnedatons (a vector of 5 IDs)\n",
        "def Score_byID(ID, res_id, Test):\n",
        "    res_title = getNameByID(getTopN(ID,D))[::-1]\n",
        "    res_score = Test[res_id]\n",
        "    return res_id, res_title, res_score, np.mean(res_score)\n",
        "    \n",
        "#compute scores for all test users - res_id is the list of recommended IDs\n",
        "def test_Score(res_id, R_test):\n",
        "    userScores=[]\n",
        "    for i in range(R_test.shape[0]):\n",
        "        userScore=0\n",
        "        userTop = np.argsort(R_test[i])[-5:]\n",
        "        for e in userTop:\n",
        "            res_id, res_title, res_score, av_score = Score_byID(e,res_id, R_test[i])\n",
        "            userScore+=av_score\n",
        "        userScores.append(userScore/(5))\n",
        "    return userScores"
      ]
    },
    {
      "cell_type": "code",
      "execution_count": 23,
      "metadata": {
        "id": "U6z0aILfZ7bm"
      },
      "outputs": [],
      "source": [
        "test_rand=test_Score(id_rand,R_test)\n",
        "test_top5=test_Score(id_top5,R_test)"
      ]
    },
    {
      "cell_type": "code",
      "execution_count": 24,
      "metadata": {
        "id": "dP_SYlzvZ7bm",
        "outputId": "743c7543-a200-4851-dc2b-183bab594578",
        "colab": {
          "base_uri": "https://localhost:8080/",
          "height": 448
        }
      },
      "outputs": [
        {
          "output_type": "execute_result",
          "data": {
            "text/plain": [
              "<matplotlib.legend.Legend at 0x7fe08ac94580>"
            ]
          },
          "metadata": {},
          "execution_count": 24
        },
        {
          "output_type": "display_data",
          "data": {
            "text/plain": [
              "<Figure size 640x480 with 1 Axes>"
            ],
            "image/png": "[encoded data removed]"
          },
          "metadata": {}
        }
      ],
      "source": [
        "#plot hist over D_cosine and D_250 \n",
        "plt.hist(test_rand,bins=5,label='rand',alpha=0.5)\n",
        "plt.hist(test_top5,bins=5,label='top5',alpha=0.5)\n",
        "plt.hist(test_cosine,bins=5,label='cosine',alpha=0.5) #alpha sets transperency\n",
        "plt.legend()"
      ]
    },
    {
      "cell_type": "markdown",
      "metadata": {
        "id": "GHF_deptZ7bn"
      },
      "source": [
        "## 4.3 SVD (with NumPy - not part of the assignment)\n",
        "Implement the SVD approach. Hints: \n",
        "* use numpy.linalg.svd()\n",
        "* apply SVD on $D$\n",
        "* plot the singular values and decide where to cut off the reconstruction\n",
        "* reconstruct and evaluate $D'$\n"
      ]
    },
    {
      "cell_type": "code",
      "execution_count": 25,
      "metadata": {
        "id": "b2QTw8fkZ7bn"
      },
      "outputs": [],
      "source": [
        "U,S,V=np.linalg.svd(D_cosine)"
      ]
    },
    {
      "cell_type": "code",
      "execution_count": 26,
      "metadata": {
        "id": "pncczpkwZ7bn",
        "outputId": "4a5331b9-21ed-4f86-cc2d-d5ba3ca084a1",
        "colab": {
          "base_uri": "https://localhost:8080/",
          "height": 448
        }
      },
      "outputs": [
        {
          "output_type": "execute_result",
          "data": {
            "text/plain": [
              "[<matplotlib.lines.Line2D at 0x7fe07fe9de20>]"
            ]
          },
          "metadata": {},
          "execution_count": 26
        },
        {
          "output_type": "display_data",
          "data": {
            "text/plain": [
              "<Figure size 640x480 with 1 Axes>"
            ],
            "image/png": "[encoded data removed]"
          },
          "metadata": {}
        }
      ],
      "source": [
        "#plot the sigular values\n",
        "plt.plot(S[:100])"
      ]
    },
    {
      "cell_type": "code",
      "execution_count": 27,
      "metadata": {
        "id": "1tMKLDvuZ7bn",
        "outputId": "739dca61-b85f-47e3-cb18-e9ed295bd4ce",
        "colab": {
          "base_uri": "https://localhost:8080/"
        }
      },
      "outputs": [
        {
          "output_type": "execute_result",
          "data": {
            "text/plain": [
              "True"
            ]
          },
          "metadata": {},
          "execution_count": 27
        }
      ],
      "source": [
        "np.allclose(D_cosine, np.dot(U * S, V)) #check if reconstruction is close to original"
      ]
    },
    {
      "cell_type": "code",
      "execution_count": 28,
      "metadata": {
        "id": "k8AvkejZZ7bn",
        "outputId": "a21d40a4-e0f1-489e-97ca-57bd25b28bdb",
        "colab": {
          "base_uri": "https://localhost:8080/"
        }
      },
      "outputs": [
        {
          "output_type": "execute_result",
          "data": {
            "text/plain": [
              "False"
            ]
          },
          "metadata": {},
          "execution_count": 28
        }
      ],
      "source": [
        "#now with reduced number of singular values\n",
        "\n",
        "#top 10\n",
        "D_10 = np.dot(U[:,:10]*S[:10],V[:10,:])\n",
        "np.allclose(D_cosine, D_10)"
      ]
    },
    {
      "cell_type": "code",
      "execution_count": 29,
      "metadata": {
        "id": "WBgeDcCsZ7bo",
        "outputId": "70e75480-62c1-433d-ee66-9bc9f6588dee",
        "colab": {
          "base_uri": "https://localhost:8080/"
        }
      },
      "outputs": [
        {
          "output_type": "execute_result",
          "data": {
            "text/plain": [
              "0.02645837468066416"
            ]
          },
          "metadata": {},
          "execution_count": 29
        }
      ],
      "source": [
        "np.sum(np.abs(D_cosine-D_10))/D.size #average error per entry"
      ]
    },
    {
      "cell_type": "code",
      "execution_count": 30,
      "metadata": {
        "id": "EA9_gR-CZ7bo",
        "outputId": "fd2f8be8-7ec9-467d-c3fc-77efe09eb646",
        "colab": {
          "base_uri": "https://localhost:8080/"
        }
      },
      "outputs": [
        {
          "output_type": "execute_result",
          "data": {
            "text/plain": [
              "False"
            ]
          },
          "metadata": {},
          "execution_count": 30
        }
      ],
      "source": [
        "#top 250\n",
        "D_250 = np.dot(U[:,:250]*S[:250],V[:250,:])\n",
        "np.allclose(D_cosine, D_250)"
      ]
    },
    {
      "cell_type": "code",
      "execution_count": 31,
      "metadata": {
        "id": "oZ0Sdc3lZ7bo",
        "outputId": "8c82f67c-3539-4087-ae7d-3219de66e7ac",
        "colab": {
          "base_uri": "https://localhost:8080/"
        }
      },
      "outputs": [
        {
          "output_type": "execute_result",
          "data": {
            "text/plain": [
              "0.007890967838031851"
            ]
          },
          "metadata": {},
          "execution_count": 31
        }
      ],
      "source": [
        "np.sum(np.abs(D_cosine-D_250))/D.size #average error per entry\n"
      ]
    },
    {
      "cell_type": "code",
      "execution_count": 32,
      "metadata": {
        "id": "rSfp98nbZ7bo",
        "outputId": "b572b0df-c046-4dbd-a267-a80fd0a6fd88",
        "colab": {
          "base_uri": "https://localhost:8080/",
          "height": 343
        }
      },
      "outputs": [
        {
          "output_type": "error",
          "ename": "IndexError",
          "evalue": "ignored",
          "traceback": [
            "\u001b[0;31m---------------------------------------------------------------------------\u001b[0m",
            "\u001b[0;31mIndexError\u001b[0m                                Traceback (most recent call last)",
            "\u001b[0;32m<ipython-input-32-20907626ebee>\u001b[0m in \u001b[0;36m<cell line: 2>\u001b[0;34m()\u001b[0m\n\u001b[1;32m      1\u001b[0m \u001b[0;31m#run test for D_250\u001b[0m\u001b[0;34m\u001b[0m\u001b[0;34m\u001b[0m\u001b[0m\n\u001b[0;32m----> 2\u001b[0;31m \u001b[0mtest_250\u001b[0m\u001b[0;34m=\u001b[0m\u001b[0mtest_Score\u001b[0m\u001b[0;34m(\u001b[0m\u001b[0mD_250\u001b[0m\u001b[0;34m,\u001b[0m\u001b[0mR_test\u001b[0m\u001b[0;34m)\u001b[0m\u001b[0;34m\u001b[0m\u001b[0;34m\u001b[0m\u001b[0m\n\u001b[0m",
            "\u001b[0;32m<ipython-input-22-114262c9590d>\u001b[0m in \u001b[0;36mtest_Score\u001b[0;34m(res_id, R_test)\u001b[0m\n\u001b[1;32m     12\u001b[0m         \u001b[0muserTop\u001b[0m \u001b[0;34m=\u001b[0m \u001b[0mnp\u001b[0m\u001b[0;34m.\u001b[0m\u001b[0margsort\u001b[0m\u001b[0;34m(\u001b[0m\u001b[0mR_test\u001b[0m\u001b[0;34m[\u001b[0m\u001b[0mi\u001b[0m\u001b[0;34m]\u001b[0m\u001b[0;34m)\u001b[0m\u001b[0;34m[\u001b[0m\u001b[0;34m-\u001b[0m\u001b[0;36m5\u001b[0m\u001b[0;34m:\u001b[0m\u001b[0;34m]\u001b[0m\u001b[0;34m\u001b[0m\u001b[0;34m\u001b[0m\u001b[0m\n\u001b[1;32m     13\u001b[0m         \u001b[0;32mfor\u001b[0m \u001b[0me\u001b[0m \u001b[0;32min\u001b[0m \u001b[0muserTop\u001b[0m\u001b[0;34m:\u001b[0m\u001b[0;34m\u001b[0m\u001b[0;34m\u001b[0m\u001b[0m\n\u001b[0;32m---> 14\u001b[0;31m             \u001b[0mres_id\u001b[0m\u001b[0;34m,\u001b[0m \u001b[0mres_title\u001b[0m\u001b[0;34m,\u001b[0m \u001b[0mres_score\u001b[0m\u001b[0;34m,\u001b[0m \u001b[0mav_score\u001b[0m \u001b[0;34m=\u001b[0m \u001b[0mScore_byID\u001b[0m\u001b[0;34m(\u001b[0m\u001b[0me\u001b[0m\u001b[0;34m,\u001b[0m\u001b[0mres_id\u001b[0m\u001b[0;34m,\u001b[0m \u001b[0mR_test\u001b[0m\u001b[0;34m[\u001b[0m\u001b[0mi\u001b[0m\u001b[0;34m]\u001b[0m\u001b[0;34m)\u001b[0m\u001b[0;34m\u001b[0m\u001b[0;34m\u001b[0m\u001b[0m\n\u001b[0m\u001b[1;32m     15\u001b[0m             \u001b[0muserScore\u001b[0m\u001b[0;34m+=\u001b[0m\u001b[0mav_score\u001b[0m\u001b[0;34m\u001b[0m\u001b[0;34m\u001b[0m\u001b[0m\n\u001b[1;32m     16\u001b[0m         \u001b[0muserScores\u001b[0m\u001b[0;34m.\u001b[0m\u001b[0mappend\u001b[0m\u001b[0;34m(\u001b[0m\u001b[0muserScore\u001b[0m\u001b[0;34m/\u001b[0m\u001b[0;34m(\u001b[0m\u001b[0;36m5\u001b[0m\u001b[0;34m)\u001b[0m\u001b[0;34m)\u001b[0m\u001b[0;34m\u001b[0m\u001b[0;34m\u001b[0m\u001b[0m\n",
            "\u001b[0;32m<ipython-input-22-114262c9590d>\u001b[0m in \u001b[0;36mScore_byID\u001b[0;34m(ID, res_id, Test)\u001b[0m\n\u001b[1;32m      2\u001b[0m \u001b[0;32mdef\u001b[0m \u001b[0mScore_byID\u001b[0m\u001b[0;34m(\u001b[0m\u001b[0mID\u001b[0m\u001b[0;34m,\u001b[0m \u001b[0mres_id\u001b[0m\u001b[0;34m,\u001b[0m \u001b[0mTest\u001b[0m\u001b[0;34m)\u001b[0m\u001b[0;34m:\u001b[0m\u001b[0;34m\u001b[0m\u001b[0;34m\u001b[0m\u001b[0m\n\u001b[1;32m      3\u001b[0m     \u001b[0mres_title\u001b[0m \u001b[0;34m=\u001b[0m \u001b[0mgetNameByID\u001b[0m\u001b[0;34m(\u001b[0m\u001b[0mgetTopN\u001b[0m\u001b[0;34m(\u001b[0m\u001b[0mID\u001b[0m\u001b[0;34m,\u001b[0m\u001b[0mD\u001b[0m\u001b[0;34m)\u001b[0m\u001b[0;34m)\u001b[0m\u001b[0;34m[\u001b[0m\u001b[0;34m:\u001b[0m\u001b[0;34m:\u001b[0m\u001b[0;34m-\u001b[0m\u001b[0;36m1\u001b[0m\u001b[0;34m]\u001b[0m\u001b[0;34m\u001b[0m\u001b[0;34m\u001b[0m\u001b[0m\n\u001b[0;32m----> 4\u001b[0;31m     \u001b[0mres_score\u001b[0m \u001b[0;34m=\u001b[0m \u001b[0mTest\u001b[0m\u001b[0;34m[\u001b[0m\u001b[0mres_id\u001b[0m\u001b[0;34m]\u001b[0m\u001b[0;34m\u001b[0m\u001b[0;34m\u001b[0m\u001b[0m\n\u001b[0m\u001b[1;32m      5\u001b[0m     \u001b[0;32mreturn\u001b[0m \u001b[0mres_id\u001b[0m\u001b[0;34m,\u001b[0m \u001b[0mres_title\u001b[0m\u001b[0;34m,\u001b[0m \u001b[0mres_score\u001b[0m\u001b[0;34m,\u001b[0m \u001b[0mnp\u001b[0m\u001b[0;34m.\u001b[0m\u001b[0mmean\u001b[0m\u001b[0;34m(\u001b[0m\u001b[0mres_score\u001b[0m\u001b[0;34m)\u001b[0m\u001b[0;34m\u001b[0m\u001b[0;34m\u001b[0m\u001b[0m\n\u001b[1;32m      6\u001b[0m \u001b[0;34m\u001b[0m\u001b[0m\n",
            "\u001b[0;31mIndexError\u001b[0m: arrays used as indices must be of integer (or boolean) type"
          ]
        }
      ],
      "source": [
        "#run test for D_250\n",
        "test_250=test_Score(D_250,R_test)"
      ]
    },
    {
      "cell_type": "code",
      "execution_count": 33,
      "metadata": {
        "id": "1Sq9BLreZ7bo",
        "outputId": "fd883c00-af43-493d-dd9b-4d32290de155",
        "colab": {
          "base_uri": "https://localhost:8080/",
          "height": 228
        }
      },
      "outputs": [
        {
          "output_type": "error",
          "ename": "NameError",
          "evalue": "ignored",
          "traceback": [
            "\u001b[0;31m---------------------------------------------------------------------------\u001b[0m",
            "\u001b[0;31mNameError\u001b[0m                                 Traceback (most recent call last)",
            "\u001b[0;32m<ipython-input-33-281c4d6c7b91>\u001b[0m in \u001b[0;36m<cell line: 2>\u001b[0;34m()\u001b[0m\n\u001b[1;32m      1\u001b[0m \u001b[0;31m#plot hist over D_cosine and D_250\u001b[0m\u001b[0;34m\u001b[0m\u001b[0;34m\u001b[0m\u001b[0m\n\u001b[0;32m----> 2\u001b[0;31m \u001b[0mplt\u001b[0m\u001b[0;34m.\u001b[0m\u001b[0mhist\u001b[0m\u001b[0;34m(\u001b[0m\u001b[0mtest_250\u001b[0m\u001b[0;34m,\u001b[0m\u001b[0mbins\u001b[0m\u001b[0;34m=\u001b[0m\u001b[0;36m5\u001b[0m\u001b[0;34m,\u001b[0m\u001b[0mlabel\u001b[0m\u001b[0;34m=\u001b[0m\u001b[0;34m'250'\u001b[0m\u001b[0;34m,\u001b[0m\u001b[0malpha\u001b[0m\u001b[0;34m=\u001b[0m\u001b[0;36m0.5\u001b[0m\u001b[0;34m)\u001b[0m\u001b[0;34m\u001b[0m\u001b[0;34m\u001b[0m\u001b[0m\n\u001b[0m\u001b[1;32m      3\u001b[0m \u001b[0mplt\u001b[0m\u001b[0;34m.\u001b[0m\u001b[0mhist\u001b[0m\u001b[0;34m(\u001b[0m\u001b[0mtest_cosine\u001b[0m\u001b[0;34m,\u001b[0m\u001b[0mbins\u001b[0m\u001b[0;34m=\u001b[0m\u001b[0;36m5\u001b[0m\u001b[0;34m,\u001b[0m\u001b[0mlabel\u001b[0m\u001b[0;34m=\u001b[0m\u001b[0;34m'cosine'\u001b[0m\u001b[0;34m,\u001b[0m\u001b[0malpha\u001b[0m\u001b[0;34m=\u001b[0m\u001b[0;36m0.5\u001b[0m\u001b[0;34m)\u001b[0m \u001b[0;31m#alpha sets transperency\u001b[0m\u001b[0;34m\u001b[0m\u001b[0;34m\u001b[0m\u001b[0m\n\u001b[1;32m      4\u001b[0m \u001b[0mplt\u001b[0m\u001b[0;34m.\u001b[0m\u001b[0mlegend\u001b[0m\u001b[0;34m(\u001b[0m\u001b[0;34m)\u001b[0m\u001b[0;34m\u001b[0m\u001b[0;34m\u001b[0m\u001b[0m\n",
            "\u001b[0;31mNameError\u001b[0m: name 'test_250' is not defined"
          ]
        }
      ],
      "source": [
        "#plot hist over D_cosine and D_250 \n",
        "plt.hist(test_250,bins=5,label='250',alpha=0.5)\n",
        "plt.hist(test_cosine,bins=5,label='cosine',alpha=0.5) #alpha sets transperency\n",
        "plt.legend()"
      ]
    },
    {
      "cell_type": "code",
      "execution_count": null,
      "metadata": {
        "id": "sp-v95U9Z7bp"
      },
      "outputs": [],
      "source": [
        "# Results are even better! - why? -> removing noise (see over fitting in Block 4)"
      ]
    },
    {
      "cell_type": "code",
      "execution_count": null,
      "metadata": {
        "id": "ReytO6oEZ7bp"
      },
      "outputs": [],
      "source": [
        "np.mean(test_250)"
      ]
    },
    {
      "cell_type": "code",
      "source": [],
      "metadata": {
        "id": "n_qOXr9KcTYX"
      },
      "execution_count": null,
      "outputs": []
    }
  ],
  "metadata": {
    "kernelspec": {
      "display_name": "Python 3",
      "language": "python",
      "name": "python3"
    },
    "language_info": {
      "codemirror_mode": {
        "name": "ipython",
        "version": 3
      },
      "file_extension": ".py",
      "mimetype": "text/x-python",
      "name": "python",
      "nbconvert_exporter": "python",
      "pygments_lexer": "ipython3",
      "version": "3.7.6"
    },
    "colab": {
      "provenance": []
    }
  },
  "nbformat": 4,
  "nbformat_minor": 0
}